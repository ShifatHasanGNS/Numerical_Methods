{
 "cells": [
  {
   "cell_type": "markdown",
   "metadata": {},
   "source": [
    "# Trapezoidal Rule"
   ]
  },
  {
   "cell_type": "code",
   "execution_count": 1,
   "metadata": {},
   "outputs": [
    {
     "name": "stdout",
     "output_type": "stream",
     "text": [
      "Approximation of the integral is: 1.999836\n"
     ]
    }
   ],
   "source": [
    "import numpy as np\n",
    "\n",
    "\n",
    "def trapezoidal_rule(func, a, b, n):\n",
    "    \"\"\"\n",
    "    Approximates the definite integral of a function using the trapezoidal rule.\n",
    "\n",
    "    Parameters:\n",
    "    - func: The function to integrate (callable).\n",
    "    - a: The start of the interval.\n",
    "    - b: The end of the interval.\n",
    "    - n: The number of subintervals (must be positive).\n",
    "\n",
    "    Returns:\n",
    "    - Approximation of the integral.\n",
    "    \"\"\"\n",
    "    # Validate input\n",
    "    if n <= 0:\n",
    "        raise ValueError(\"Number of subintervals 'n' must be positive.\")\n",
    "\n",
    "    # Step size\n",
    "    h = (b - a) / n\n",
    "\n",
    "    # x values at which to evaluate the function\n",
    "    x = np.linspace(a, b, n + 1)\n",
    "\n",
    "    # Function values at these x points\n",
    "    y = func(x)\n",
    "\n",
    "    # Apply trapezoidal rule\n",
    "    integral = h * (0.5 * y[0] + np.sum(y[1:-1]) + 0.5 * y[-1])\n",
    "    return integral\n",
    "\n",
    "# Example usage:\n",
    "\n",
    "\n",
    "def f(x):\n",
    "    return np.sin(x)  # Example function: sin(x)\n",
    "\n",
    "\n",
    "a, b = 0, np.pi  # Integration limits\n",
    "n = 100  # Number of subintervals\n",
    "\n",
    "result = trapezoidal_rule(f, a, b, n)\n",
    "print(f\"Approximation of the integral is: {result:.6f}\")"
   ]
  },
  {
   "cell_type": "markdown",
   "metadata": {},
   "source": [
    "# Simpson's $\\frac{1}{3}$ Rule"
   ]
  },
  {
   "cell_type": "code",
   "execution_count": 4,
   "metadata": {},
   "outputs": [
    {
     "name": "stdout",
     "output_type": "stream",
     "text": [
      "Approximation of the integral is: 2.000000\n"
     ]
    }
   ],
   "source": [
    "import numpy as np\n",
    "\n",
    "\n",
    "def simpsons_one_third_rule(func, a, b, n):\n",
    "    \"\"\"\n",
    "    Approximates the definite integral of a function using Simpson's 1/3 Rule.\n",
    "\n",
    "    Parameters:\n",
    "    - func: The function to integrate (callable).\n",
    "    - a: The start of the interval.\n",
    "    - b: The end of the interval.\n",
    "    - n: The number of subintervals (must be even).\n",
    "\n",
    "    Returns:\n",
    "    - Approximation of the integral.\n",
    "    \"\"\"\n",
    "    # Validate input\n",
    "    if n <= 0 or n % 2 != 0:\n",
    "        n = np.abs(n) + 1\n",
    "\n",
    "    # Step size\n",
    "    h = (b - a) / n\n",
    "\n",
    "    # x values at which to evaluate the function\n",
    "    x = np.linspace(a, b, n + 1)\n",
    "\n",
    "    # Function values at these x points\n",
    "    y = func(x)\n",
    "\n",
    "    # Apply Simpson's 1/3 Rule\n",
    "    integral = h / 3 * (y[0] + 4 * np.sum(y[1:n:2]) +\n",
    "                        2 * np.sum(y[2:n-1:2]) + y[n])\n",
    "    return integral\n",
    "\n",
    "# Example usage:\n",
    "\n",
    "\n",
    "def f(x):\n",
    "    return np.sin(x)  # Example function: sin(x)\n",
    "\n",
    "\n",
    "a, b = 0, np.pi  # Integration limits\n",
    "n = 100  # Number of subintervals (must be even)\n",
    "\n",
    "result = simpsons_one_third_rule(f, a, b, n)\n",
    "print(f\"Approximation of the integral is: {result:.6f}\")"
   ]
  },
  {
   "cell_type": "markdown",
   "metadata": {},
   "source": [
    "# Simpson's $\\frac{3}{8}$ Rule"
   ]
  },
  {
   "cell_type": "code",
   "execution_count": 8,
   "metadata": {},
   "outputs": [
    {
     "name": "stdout",
     "output_type": "stream",
     "text": [
      "Approximation of the integral is: 2.000000\n"
     ]
    }
   ],
   "source": [
    "import numpy as np\n",
    "\n",
    "\n",
    "def simpsons_three_eighth_rule(func, a, b, n):\n",
    "    \"\"\"\n",
    "    Approximates the definite integral of a function using Simpson's 3/8 Rule.\n",
    "\n",
    "    Parameters:\n",
    "    - func: The function to integrate (callable).\n",
    "    - a: The start of the interval.\n",
    "    - b: The end of the interval.\n",
    "    - n: The number of subintervals (must be a multiple of 3).\n",
    "\n",
    "    Returns:\n",
    "    - Approximation of the integral.\n",
    "    \"\"\"\n",
    "    # Validate input\n",
    "    if n <= 0 or n % 3 != 0:\n",
    "        n = np.abs(n) + (3 - (n % 3))\n",
    "\n",
    "    # Step size\n",
    "    h = (b - a) / n\n",
    "\n",
    "    # x values at which to evaluate the function\n",
    "    x = np.linspace(a, b, n + 1)\n",
    "\n",
    "    # Function values at these x points\n",
    "    y = func(x)\n",
    "\n",
    "    # Apply Simpson's 3/8 Rule\n",
    "    integral = (3 * h / 8) * (y[0] + 3 * np.sum(y[1:n:3] +\n",
    "                                                y[2:n:3]) + 2 * np.sum(y[3:n-2:3]) + y[-1])\n",
    "    return integral\n",
    "\n",
    "# Example usage:\n",
    "\n",
    "\n",
    "def f(x):\n",
    "    return np.sin(x)  # Example function: sin(x)\n",
    "\n",
    "\n",
    "a, b = 0, np.pi  # Integration limits\n",
    "n = 99  # Number of subintervals (must be a multiple of 3)\n",
    "\n",
    "result = simpsons_three_eighth_rule(f, a, b, n)\n",
    "print(f\"Approximation of the integral is: {result:.6f}\")"
   ]
  }
 ],
 "metadata": {
  "kernelspec": {
   "display_name": "Python 3",
   "language": "python",
   "name": "python3"
  },
  "language_info": {
   "codemirror_mode": {
    "name": "ipython",
    "version": 3
   },
   "file_extension": ".py",
   "mimetype": "text/x-python",
   "name": "python",
   "nbconvert_exporter": "python",
   "pygments_lexer": "ipython3",
   "version": "3.11.9"
  }
 },
 "nbformat": 4,
 "nbformat_minor": 2
}
