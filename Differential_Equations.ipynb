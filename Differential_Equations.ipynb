{
 "cells": [
  {
   "cell_type": "markdown",
   "metadata": {},
   "source": [
    "# 4-th order Runge-Kutta (RK-4) Method"
   ]
  },
  {
   "cell_type": "code",
   "execution_count": 7,
   "metadata": {},
   "outputs": [
    {
     "name": "stdout",
     "output_type": "stream",
     "text": [
      "x = 0.00, y = 1.0000\n",
      "x = 0.10, y = 1.1103\n",
      "x = 0.20, y = 1.2428\n",
      "x = 0.30, y = 1.3997\n",
      "x = 0.40, y = 1.5836\n",
      "x = 0.50, y = 1.7974\n",
      "x = 0.60, y = 2.0442\n",
      "x = 0.70, y = 2.3275\n",
      "x = 0.80, y = 2.6511\n",
      "x = 0.90, y = 3.0192\n",
      "x = 1.00, y = 3.4366\n",
      "x = 1.10, y = 3.9083\n",
      "x = 1.20, y = 4.4402\n",
      "x = 1.30, y = 5.0386\n",
      "x = 1.40, y = 5.7104\n",
      "x = 1.50, y = 6.4634\n",
      "x = 1.60, y = 7.3061\n",
      "x = 1.70, y = 8.2479\n",
      "x = 1.80, y = 9.2993\n",
      "x = 1.90, y = 10.4718\n",
      "x = 2.00, y = 11.7781\n"
     ]
    }
   ],
   "source": [
    "import numpy as np\n",
    "\n",
    "\n",
    "def runge_kutta_4(f, x0, y0, x_end, h):\n",
    "    \"\"\"\n",
    "    Solves an ODE using the 4th order Runge-Kutta method.\n",
    "\n",
    "    Parameters:\n",
    "    - f: The function representing the ODE (dy/dx = f(x, y)).\n",
    "    - x0: The initial value of x.\n",
    "    - y0: The initial value of y.\n",
    "    - x_end: The point at which to stop the solution.\n",
    "    - h: The step size.\n",
    "\n",
    "    Returns:\n",
    "    - x_values: Array of x values.\n",
    "    - y_values: Array of corresponding y values.\n",
    "    \"\"\"\n",
    "    x_values = np.arange(x0, x_end+h, h)\n",
    "    y_values = np.zeros(len(x_values))\n",
    "    y_values[0] = y0\n",
    "\n",
    "    for i in range(1, len(x_values)):\n",
    "        x = x_values[i-1]\n",
    "        y = y_values[i-1]\n",
    "\n",
    "        k1 = f(x, y)\n",
    "        k2 = f(x + h/2.0, y + h*k1/2.0)\n",
    "        k3 = f(x + h/2.0, y + h*k2/2.0)\n",
    "        k4 = f(x + h, y + h*k3)\n",
    "\n",
    "        y_values[i] = y + (h/6)*(k1 + 2*k2 + 2*k3 + k4)\n",
    "\n",
    "    return x_values, y_values\n",
    "\n",
    "# Example usage\n",
    "# Define the ODE dy/dx = x + y\n",
    "\n",
    "\n",
    "def ode_function(x, y):\n",
    "    return x + y\n",
    "\n",
    "\n",
    "# Initial conditions\n",
    "x0 = 0  # Initial value of x\n",
    "y0 = 1  # Initial value of y\n",
    "x_end = 2  # End value of x\n",
    "h = 0.1  # Step size\n",
    "\n",
    "# Solve the ODE using the Runge-Kutta 4 method\n",
    "x_values, y_values = runge_kutta_4(ode_function, x0, y0, x_end, h)\n",
    "\n",
    "# Print results\n",
    "for x, y in zip(x_values, y_values):\n",
    "    print(f\"x = {x:.2f}, y = {y:.4f}\")"
   ]
  }
 ],
 "metadata": {
  "kernelspec": {
   "display_name": "Python 3",
   "language": "python",
   "name": "python3"
  },
  "language_info": {
   "codemirror_mode": {
    "name": "ipython",
    "version": 3
   },
   "file_extension": ".py",
   "mimetype": "text/x-python",
   "name": "python",
   "nbconvert_exporter": "python",
   "pygments_lexer": "ipython3",
   "version": "3.11.9"
  }
 },
 "nbformat": 4,
 "nbformat_minor": 2
}
